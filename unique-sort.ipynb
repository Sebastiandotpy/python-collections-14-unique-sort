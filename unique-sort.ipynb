{
 "cells": [
  {
   "cell_type": "code",
   "execution_count": 1,
   "metadata": {},
   "outputs": [
    {
     "name": "stdout",
     "output_type": "stream",
     "text": [
      "['Career', 'Digital', 'Exercise', 'Institute', 'Lecture', 'Python']\n"
     ]
    }
   ],
   "source": [
    "from typing import List\n",
    "\n",
    "def unique_char_sort(strings: List[str]) -> List[str]:\n",
    "    \"\"\"\n",
    "    Sorts the list of strings based on the number of unique characters in each string.\n",
    "\n",
    "    Args:\n",
    "        strings (List[str]): The list of strings to be sorted.\n",
    "\n",
    "    Returns:\n",
    "        List[str]: The sorted list of strings.\n",
    "    \"\"\"\n",
    "    return sorted(strings, key=lambda s: (len(set(s.lower())), s))\n",
    "\n",
    "\n",
    "strings = ['Digital',\n",
    "    'Career',\n",
    "    'Institute',\n",
    "    'Lecture',\n",
    "    'Exercise',\n",
    "    'Python',\n",
    "    ]\n",
    "result = unique_char_sort(strings)\n",
    "print(result)"
   ]
  },
  {
   "cell_type": "code",
   "execution_count": 4,
   "metadata": {},
   "outputs": [
    {
     "name": "stdout",
     "output_type": "stream",
     "text": [
      "['Career', 'Digital', 'Exercise', 'Institute', 'Lecture']\n"
     ]
    }
   ],
   "source": [
    "from typing import List\n",
    "\n",
    "def unique_char_sort(strings: List[str]) -> List[str]:\n",
    "    \"\"\"\n",
    "    Sorts the list of strings based on the number of unique characters in each string.\n",
    "\n",
    "    Args:\n",
    "        strings (List[str]): The list of strings to be sorted.\n",
    "\n",
    "    Returns:\n",
    "        List[str]: The sorted list of strings.\n",
    "    \"\"\"\n",
    "    return sorted(strings, key=lambda s: (len(set(s.lower())), s.lower()))\n",
    "\n",
    "\n",
    "strings = ['Digital', 'Career', 'Institute', 'Lecture', 'Exercise']\n",
    "result = unique_char_sort(strings)\n",
    "print(result)\n"
   ]
  }
 ],
 "metadata": {
  "kernelspec": {
   "display_name": "Python 3",
   "language": "python",
   "name": "python3"
  },
  "language_info": {
   "codemirror_mode": {
    "name": "ipython",
    "version": 3
   },
   "file_extension": ".py",
   "mimetype": "text/x-python",
   "name": "python",
   "nbconvert_exporter": "python",
   "pygments_lexer": "ipython3",
   "version": "3.11.3"
  },
  "orig_nbformat": 4
 },
 "nbformat": 4,
 "nbformat_minor": 2
}
